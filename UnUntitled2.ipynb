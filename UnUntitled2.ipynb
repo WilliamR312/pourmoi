{
  "nbformat": 4,
  "nbformat_minor": 0,
  "metadata": {
    "colab": {
      "provenance": [],
      "collapsed_sections": [],
      "authorship_tag": "ABX9TyNb6I7w3rgtkL6Jij/NBceI",
      "include_colab_link": true
    },
    "kernelspec": {
      "name": "python3",
      "display_name": "Python 3"
    },
    "language_info": {
      "name": "python"
    }
  },
  "cells": [
    {
      "cell_type": "markdown",
      "metadata": {
        "id": "view-in-github",
        "colab_type": "text"
      },
      "source": [
        "<a href=\"https://colab.research.google.com/github/WilliamR312/pourmoi/blob/main/UnUntitled2.ipynb\" target=\"_parent\"><img src=\"https://colab.research.google.com/assets/colab-badge.svg\" alt=\"Open In Colab\"/></a>"
      ]
    },
    {
      "cell_type": "code",
      "execution_count": null,
      "metadata": {
        "id": "0g-2qEo2hzT1"
      },
      "outputs": [],
      "source": [
        "from sqlalchemy import create_engine\n",
        "my_conn = create_engine(\"sqlite:////content/my_db.db\")"
      ]
    },
    {
      "cell_type": "code",
      "source": [
        "r_set=my_conn.execute('''select name from sqlite_master\n",
        "  where type = 'table' ''')\n",
        "for row in r_set:\n",
        "  print(row)"
      ],
      "metadata": {
        "colab": {
          "base_uri": "https://localhost:8080/"
        },
        "id": "g5K5t8kGh27E",
        "outputId": "9bae74e2-0c75-4805-990b-5f1c3610b2ca"
      },
      "execution_count": null,
      "outputs": [
        {
          "output_type": "stream",
          "name": "stdout",
          "text": [
            "('category',)\n",
            "('subcategory',)\n",
            "('student',)\n"
          ]
        }
      ]
    },
    {
      "cell_type": "code",
      "source": [
        "r_set=my_conn.execute('''SELECT * from student''');\n",
        "for row in r_set:\n",
        "  print(row)"
      ],
      "metadata": {
        "colab": {
          "base_uri": "https://localhost:8080/"
        },
        "id": "FpseS4c4h4v8",
        "outputId": "7a812ce1-0f6d-44f2-880c-9072a4e5e7a0"
      },
      "execution_count": null,
      "outputs": [
        {
          "output_type": "stream",
          "name": "stdout",
          "text": [
            "(1, 'John Deo', 'Four', 75, 'female')\n",
            "(2, 'Max Ruin', 'Three', 85, 'male')\n",
            "(3, 'Arnold', 'Three', 55, 'male')\n",
            "(4, 'Krish Star', 'Four', 60, 'female')\n",
            "(5, 'John Mike', 'Four', 60, 'female')\n",
            "(6, 'Alex John', 'Four', 55, 'male')\n",
            "(7, 'My John Rob', 'Five', 78, 'male')\n",
            "(8, 'Asruid', 'Five', 85, 'male')\n",
            "(9, 'Tes Qry', 'Six', 78, 'male')\n",
            "(10, 'Big John', 'Four', 55, 'female')\n",
            "(11, 'Ronald', 'Six', 89, 'female')\n",
            "(12, 'Recky', 'Six', 94, 'female')\n",
            "(13, 'Kty', 'Seven', 88, 'female')\n",
            "(14, 'Bigy', 'Seven', 88, 'female')\n",
            "(15, 'Tade Row', 'Four', 88, 'male')\n",
            "(16, 'Gimmy', 'Four', 88, 'male')\n",
            "(17, 'Tumyu', 'Six', 54, 'male')\n",
            "(18, 'Honny', 'Five', 75, 'male')\n",
            "(19, 'Tinny', 'Nine', 18, 'male')\n",
            "(20, 'Jackly', 'Nine', 65, 'female')\n",
            "(21, 'Babby John', 'Four', 69, 'female')\n",
            "(22, 'Reggid', 'Seven', 55, 'female')\n",
            "(23, 'Herod', 'Eight', 79, 'male')\n",
            "(24, 'Tiddy Now', 'Seven', 78, 'male')\n",
            "(25, 'Giff Tow', 'Seven', 88, 'male')\n",
            "(26, 'Crelea', 'Seven', 79, 'male')\n",
            "(27, 'Big Nose', 'Three', 81, 'female')\n",
            "(28, 'Rojj Base', 'Seven', 86, 'female')\n",
            "(29, 'Tess Played', 'Seven', 55, 'male')\n",
            "(30, 'Reppy Red', 'Six', 79, 'female')\n",
            "(31, 'Marry Toeey', 'Four', 88, 'male')\n",
            "(32, 'Binn Rott', 'Seven', 90, 'female')\n",
            "(33, 'Kenn Rein', 'Six', 96, 'female')\n",
            "(34, 'Gain Toe', 'Seven', 69, 'male')\n",
            "(35, 'Rows Noump', 'Six', 88, 'female')\n"
          ]
        }
      ]
    },
    {
      "cell_type": "code",
      "source": [
        "q=\"SELECT id, name, class, mark, sex FROM student WHERE class='Four'\"\n",
        "my_cursor=my_conn.execute(q)\n",
        "for row in my_cursor:\n",
        "  print(row)"
      ],
      "metadata": {
        "colab": {
          "base_uri": "https://localhost:8080/"
        },
        "id": "Q6E_3EjYh5PL",
        "outputId": "8ee01927-c26b-45d6-bda5-d139219f0eb3"
      },
      "execution_count": null,
      "outputs": [
        {
          "output_type": "stream",
          "name": "stdout",
          "text": [
            "(1, 'John Deo', 'Four', 75, 'female')\n",
            "(4, 'Krish Star', 'Four', 60, 'female')\n",
            "(5, 'John Mike', 'Four', 60, 'female')\n",
            "(6, 'Alex John', 'Four', 55, 'male')\n",
            "(10, 'Big John', 'Four', 55, 'female')\n",
            "(15, 'Tade Row', 'Four', 88, 'male')\n",
            "(16, 'Gimmy', 'Four', 88, 'male')\n",
            "(21, 'Babby John', 'Four', 69, 'female')\n",
            "(31, 'Marry Toeey', 'Four', 88, 'male')\n"
          ]
        }
      ]
    },
    {
      "cell_type": "code",
      "source": [
        "q=\"SELECT id, name, class, mark, sex FROM student WHERE id=8 \"\n",
        "my_cursor=my_conn.execute(q)\n",
        "data_row=my_cursor.fetchone()\n",
        "#print(type(data_row))\n",
        "print(data_row[0], data_row[1], data_row[3])"
      ],
      "metadata": {
        "colab": {
          "base_uri": "https://localhost:8080/"
        },
        "id": "eP3T5LaLiknj",
        "outputId": "049a51f7-d435-4c90-b276-ecfe0b72cc48"
      },
      "execution_count": null,
      "outputs": [
        {
          "output_type": "stream",
          "name": "stdout",
          "text": [
            "8 Asruid 85\n"
          ]
        }
      ]
    },
    {
      "cell_type": "code",
      "source": [
        "q=\"SELECT id, name, class, mark, sex FROM student limit 0,10 \"\n",
        "my_cursor=my_conn.execute(q)\n",
        "data_row=my_cursor.fetchall()\n",
        "print(type(data_row))\n",
        "print(\"No of records : \", len(data_row))\n",
        "for row in data_row:\n",
        "  print(row)"
      ],
      "metadata": {
        "colab": {
          "base_uri": "https://localhost:8080/"
        },
        "id": "UzX-53j3jqGd",
        "outputId": "85f09e20-8e31-43d0-d11d-9eb8d5d70000"
      },
      "execution_count": null,
      "outputs": [
        {
          "output_type": "stream",
          "name": "stdout",
          "text": [
            "<class 'list'>\n",
            "No of records :  10\n",
            "(1, 'John Deo', 'Four', 75, 'female')\n",
            "(2, 'Max Ruin', 'Three', 85, 'male')\n",
            "(3, 'Arnold', 'Three', 55, 'male')\n",
            "(4, 'Krish Star', 'Four', 60, 'female')\n",
            "(5, 'John Mike', 'Four', 60, 'female')\n",
            "(6, 'Alex John', 'Four', 55, 'male')\n",
            "(7, 'My John Rob', 'Five', 78, 'male')\n",
            "(8, 'Asruid', 'Five', 85, 'male')\n",
            "(9, 'Tes Qry', 'Six', 78, 'male')\n",
            "(10, 'Big John', 'Four', 55, 'female')\n"
          ]
        }
      ]
    }
  ]
}